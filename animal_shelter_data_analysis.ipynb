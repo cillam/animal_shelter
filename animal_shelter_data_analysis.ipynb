{
 "cells": [
  {
   "cell_type": "markdown",
   "id": "639d6aee",
   "metadata": {},
   "source": []
  },
  {
   "cell_type": "code",
   "execution_count": 1,
   "id": "c23f8e9c",
   "metadata": {},
   "outputs": [],
   "source": [
    "from pandas import read_csv, to_datetime, Series\n",
    "import numpy as np\n",
    "from scipy import stats\n",
    "import matplotlib.pyplot as plt\n",
    "from matplotlib.ticker import PercentFormatter\n",
    "import matplotlib.dates as mdates"
   ]
  },
  {
   "cell_type": "markdown",
   "id": "ee6932f4",
   "metadata": {},
   "source": []
  },
  {
   "cell_type": "code",
   "execution_count": 2,
   "id": "2d950439",
   "metadata": {},
   "outputs": [
    {
     "name": "stdout",
     "output_type": "stream",
     "text": [
      "3.432420600428609\n"
     ]
    }
   ],
   "source": [
    "# Open data file\n",
    "df = read_csv('intake_and_outcome_data.csv')\n",
    "\n",
    "# Replacing all NaN values of name column with \"No name\"\n",
    "df[\"Name\"].fillna(\"No name\", inplace=True)\n",
    "\n",
    "# Converts string dates to datetime dtypes\n",
    "df[\"Date Of Birth\"] = to_datetime(df[\"Date Of Birth\"])\n",
    "df[\"Intake Date\"] = to_datetime(df[\"Intake Date\"])\n",
    "df[\"Outcome Date\"] = to_datetime(df[\"Outcome Date\"])\n",
    "\n",
    "# Find age in days of animal on intake date if birth date provided\n",
    "birth_dates = np.array(df[\"Date Of Birth\"], dtype='datetime64[D]')\n",
    "intake_dates = np.array(df[\"Intake Date\"], dtype='datetime64[D]')\n",
    "ages = np.array((intake_dates - birth_dates), dtype=\"int\")\n",
    "ages = np.where(ages < 0, 0, ages) # changes age to zero if born after intake\n",
    "ages = np.where(np.isnat(birth_dates), np.nan, ages) # gives NaN value if no birthday provided and changes dtype to float64\n",
    "df['Age In Days'] = ages\n",
    "\n",
    "# Calculate average age of animals excluding those with unknown birth dates\n",
    "avg_age_in_years = np.nanmean(ages)/365.24\n",
    "print(avg_age_in_years)"
   ]
  },
  {
   "cell_type": "code",
   "execution_count": null,
   "id": "13a9918b",
   "metadata": {},
   "outputs": [],
   "source": []
  }
 ],
 "metadata": {
  "kernelspec": {
   "display_name": "Python 3 (ipykernel)",
   "language": "python",
   "name": "python3"
  },
  "language_info": {
   "codemirror_mode": {
    "name": "ipython",
    "version": 3
   },
   "file_extension": ".py",
   "mimetype": "text/x-python",
   "name": "python",
   "nbconvert_exporter": "python",
   "pygments_lexer": "ipython3",
   "version": "3.10.9"
  }
 },
 "nbformat": 4,
 "nbformat_minor": 5
}
